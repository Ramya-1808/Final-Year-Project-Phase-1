{
 "cells": [
  {
   "cell_type": "code",
   "execution_count": 1,
   "id": "52178160",
   "metadata": {},
   "outputs": [],
   "source": [
    "import shutil\n",
    "import os\n",
    "import numpy as np\n",
    "import argparse"
   ]
  },
  {
   "cell_type": "code",
   "execution_count": 2,
   "id": "bdb4a0ec",
   "metadata": {},
   "outputs": [],
   "source": [
    "import random\n",
    "import keras"
   ]
  },
  {
   "cell_type": "code",
   "execution_count": 3,
   "id": "d4031f07",
   "metadata": {},
   "outputs": [],
   "source": [
    "from tensorflow.keras import Sequential"
   ]
  },
  {
   "cell_type": "code",
   "execution_count": 4,
   "id": "e193a8ba",
   "metadata": {},
   "outputs": [],
   "source": [
    "import tensorflow as tf\n",
    "from keras.layers.core import Dense, Activation, Dropout, Flatten\n",
    "from keras.layers.convolutional import Convolution2D, MaxPooling2D\n",
    "from tensorflow.keras.optimizers import SGD\n",
    "from tensorflow.keras.optimizers import Adam\n",
    "from keras.utils import np_utils\n",
    "from sklearn.tree import DecisionTreeClassifier # Import Decision Tree Classifier\n",
    "from sklearn import metrics\n",
    "from sklearn.utils import shuffle\n",
    "from sklearn.model_selection import train_test_split\n",
    "import matplotlib.image as mpimg\n",
    "import matplotlib.pyplot as plt\n",
    "import numpy as np\n",
    "import os\n",
    "import cv2\n",
    "import random\n",
    "from numpy import *\n",
    "from PIL import Image\n"
   ]
  },
  {
   "cell_type": "code",
   "execution_count": 5,
   "id": "d7b2abaf",
   "metadata": {},
   "outputs": [],
   "source": [
    "path_test=\"C:\\\\Users\\\\DELL\\\\diff_crop_cnn\""
   ]
  },
  {
   "cell_type": "code",
   "execution_count": 6,
   "id": "1d68b07b",
   "metadata": {},
   "outputs": [],
   "source": [
    "Categories=[\"Croton\",\"DumbCane\",\"Horsebush\",\"Screwpine\",\"Silverleaf\",\"Variegated screwpine\"]"
   ]
  },
  {
   "cell_type": "code",
   "execution_count": 7,
   "id": "cd8e2e04",
   "metadata": {},
   "outputs": [],
   "source": [
    "batch_count=[]\n",
    "training=[]\n",
    "def createTrainingData():\n",
    "    for cat in Categories:\n",
    "        path=os.path.join(path_test,cat)\n",
    "        class_num=Categories.index(cat)\n",
    "        num=1\n",
    "        for img in os.listdir(path):\n",
    "            img_array=cv2.imread(os.path.join(path,img))\n",
    "            new_array=cv2.resize(img_array,(48,48))\n",
    "            training.append([new_array,class_num])\n",
    "            num+=1\n",
    "        batch_count.append(num)   \n"
   ]
  },
  {
   "cell_type": "code",
   "execution_count": 8,
   "id": "08a3af0c",
   "metadata": {},
   "outputs": [],
   "source": [
    "createTrainingData()"
   ]
  },
  {
   "cell_type": "code",
   "execution_count": 9,
   "id": "7631e117",
   "metadata": {},
   "outputs": [],
   "source": [
    "random.shuffle(training)"
   ]
  },
  {
   "cell_type": "code",
   "execution_count": 10,
   "id": "b51fb9c2",
   "metadata": {},
   "outputs": [],
   "source": [
    "X=[]\n",
    "Y=[]\n",
    "for features,label in training:\n",
    "    X.append(features)\n",
    "    Y.append(label)\n",
    "X=np.array(X).reshape(-1,48,48,3)"
   ]
  },
  {
   "cell_type": "code",
   "execution_count": 11,
   "id": "e8230e14",
   "metadata": {},
   "outputs": [
    {
     "name": "stdout",
     "output_type": "stream",
     "text": [
      "[[[[170 181 179]\n",
      "   [ 60  90  95]\n",
      "   [ 90 110 134]\n",
      "   ...\n",
      "   [ 48 116 129]\n",
      "   [ 48 116 129]\n",
      "   [ 48 116 129]]\n",
      "\n",
      "  [[212 226 238]\n",
      "   [207 222 225]\n",
      "   [122 146 152]\n",
      "   ...\n",
      "   [ 48 116 129]\n",
      "   [ 48 116 129]\n",
      "   [ 32  95 109]]\n",
      "\n",
      "  [[ 82 136 136]\n",
      "   [240 249 251]\n",
      "   [179 192 196]\n",
      "   ...\n",
      "   [ 44  76 125]\n",
      "   [102 163 184]\n",
      "   [ 37 105 124]]\n",
      "\n",
      "  ...\n",
      "\n",
      "  [[ 62 112 146]\n",
      "   [ 72 166 219]\n",
      "   [101 201 253]\n",
      "   ...\n",
      "   [172 187 194]\n",
      "   [203 214 222]\n",
      "   [196 207 211]]\n",
      "\n",
      "  [[ 93 102 100]\n",
      "   [134 150 151]\n",
      "   [196 212 218]\n",
      "   ...\n",
      "   [ 18  26  25]\n",
      "   [ 40  48  48]\n",
      "   [202 211 225]]\n",
      "\n",
      "  [[ 77  90  81]\n",
      "   [169 186 183]\n",
      "   [164 177 178]\n",
      "   ...\n",
      "   [ 66  76  86]\n",
      "   [151 170 183]\n",
      "   [223 227 235]]]\n",
      "\n",
      "\n",
      " [[[ 14 135 145]\n",
      "   [  2  57  45]\n",
      "   [ 30  82  68]\n",
      "   ...\n",
      "   [ 15 130 143]\n",
      "   [ 15 130 143]\n",
      "   [ 15 130 143]]\n",
      "\n",
      "  [[ 14 135 145]\n",
      "   [ 10  60  47]\n",
      "   [ 21  78  63]\n",
      "   ...\n",
      "   [ 15 130 143]\n",
      "   [ 15 130 143]\n",
      "   [ 15 130 143]]\n",
      "\n",
      "  [[ 16 134 151]\n",
      "   [ 10 137 150]\n",
      "   [ 21  66  50]\n",
      "   ...\n",
      "   [ 15 131 142]\n",
      "   [ 13 131 143]\n",
      "   [ 15 130 143]]\n",
      "\n",
      "  ...\n",
      "\n",
      "  [[124 222 240]\n",
      "   [110 213 232]\n",
      "   [103 209 215]\n",
      "   ...\n",
      "   [ 13  67  65]\n",
      "   [ 50 106 101]\n",
      "   [106 170 164]]\n",
      "\n",
      "  [[110 213 232]\n",
      "   [ 69 189 201]\n",
      "   [110 178 188]\n",
      "   ...\n",
      "   [  5  10  17]\n",
      "   [  4   9  15]\n",
      "   [  3  12  16]]\n",
      "\n",
      "  [[ 79 214 230]\n",
      "   [126 215 221]\n",
      "   [ 65 105  82]\n",
      "   ...\n",
      "   [131 201 208]\n",
      "   [136 204 212]\n",
      "   [137 207 213]]]\n",
      "\n",
      "\n",
      " [[[ 79 186 203]\n",
      "   [  3   5   5]\n",
      "   [  7  27  24]\n",
      "   ...\n",
      "   [ 42 115 115]\n",
      "   [  3   9  14]\n",
      "   [  3   7  12]]\n",
      "\n",
      "  [[ 50 162 172]\n",
      "   [ 20 108  96]\n",
      "   [  4  42  42]\n",
      "   ...\n",
      "   [ 16 117 105]\n",
      "   [  0  10   6]\n",
      "   [  2  14  14]]\n",
      "\n",
      "  [[ 59 178 191]\n",
      "   [ 30 125 127]\n",
      "   [ 53 132 110]\n",
      "   ...\n",
      "   [ 54 117 104]\n",
      "   [ 13  92  66]\n",
      "   [  6  18  23]]\n",
      "\n",
      "  ...\n",
      "\n",
      "  [[ 13 107 103]\n",
      "   [ 14 108 104]\n",
      "   [ 14 108 104]\n",
      "   ...\n",
      "   [ 21  87  66]\n",
      "   [ 69 201 217]\n",
      "   [ 69 181 203]]\n",
      "\n",
      "  [[ 26  52  79]\n",
      "   [  2  23  50]\n",
      "   [  2  20  47]\n",
      "   ...\n",
      "   [ 52 136 152]\n",
      "   [ 37 128 115]\n",
      "   [ 47 171 159]]\n",
      "\n",
      "  [[ 17  33  50]\n",
      "   [ 19  34  52]\n",
      "   [ 26  41  61]\n",
      "   ...\n",
      "   [131 191 203]\n",
      "   [ 87 180 195]\n",
      "   [ 78 183 179]]]\n",
      "\n",
      "\n",
      " ...\n",
      "\n",
      "\n",
      " [[[208 202 228]\n",
      "   [ 93  99  98]\n",
      "   [ 68  70  80]\n",
      "   ...\n",
      "   [150 141 152]\n",
      "   [ 78  71  76]\n",
      "   [ 45  35  51]]\n",
      "\n",
      "  [[246 227 236]\n",
      "   [248 227 235]\n",
      "   [237 219 228]\n",
      "   ...\n",
      "   [148 140 151]\n",
      "   [ 42  35  40]\n",
      "   [ 75  69  74]]\n",
      "\n",
      "  [[222 205 219]\n",
      "   [224 205 219]\n",
      "   [223 203 220]\n",
      "   ...\n",
      "   [229 221 221]\n",
      "   [238 224 218]\n",
      "   [241 230 226]]\n",
      "\n",
      "  ...\n",
      "\n",
      "  [[172 175 206]\n",
      "   [170 181 211]\n",
      "   [163 182 214]\n",
      "   ...\n",
      "   [153 173 177]\n",
      "   [135 163 183]\n",
      "   [188 180 224]]\n",
      "\n",
      "  [[145 164 199]\n",
      "   [161 177 206]\n",
      "   [166 181 215]\n",
      "   ...\n",
      "   [174 188 200]\n",
      "   [123 144 159]\n",
      "   [143 160 179]]\n",
      "\n",
      "  [[175 190 217]\n",
      "   [176 187 211]\n",
      "   [191 197 216]\n",
      "   ...\n",
      "   [136 165 175]\n",
      "   [149 170 196]\n",
      "   [158 178 196]]]\n",
      "\n",
      "\n",
      " [[[ 62  71  85]\n",
      "   [ 60  96  74]\n",
      "   [107 133 119]\n",
      "   ...\n",
      "   [ 98 100 121]\n",
      "   [ 38  35  50]\n",
      "   [ 84  85 106]]\n",
      "\n",
      "  [[140 183 118]\n",
      "   [ 51  98  64]\n",
      "   [123 131 160]\n",
      "   ...\n",
      "   [ 64  64  83]\n",
      "   [ 25  26  37]\n",
      "   [ 93 100 133]]\n",
      "\n",
      "  [[131 176 113]\n",
      "   [139 182 117]\n",
      "   [137 188 128]\n",
      "   ...\n",
      "   [ 70  78 108]\n",
      "   [ 60  66  95]\n",
      "   [ 56  66  96]]\n",
      "\n",
      "  ...\n",
      "\n",
      "  [[233 241 231]\n",
      "   [175 198 180]\n",
      "   [193 214 206]\n",
      "   ...\n",
      "   [193 200 187]\n",
      "   [199 204 195]\n",
      "   [207 212 203]]\n",
      "\n",
      "  [[202 226 216]\n",
      "   [175 192 182]\n",
      "   [145 175 165]\n",
      "   ...\n",
      "   [114 132 118]\n",
      "   [144 154 138]\n",
      "   [181 189 179]]\n",
      "\n",
      "  [[ 31  66  52]\n",
      "   [ 51  73  61]\n",
      "   [206 211 209]\n",
      "   ...\n",
      "   [193 203 180]\n",
      "   [169 179 156]\n",
      "   [161 176 164]]]\n",
      "\n",
      "\n",
      " [[[ 12  20  33]\n",
      "   [  8  11  19]\n",
      "   [ 13  17  22]\n",
      "   ...\n",
      "   [ 19  57  55]\n",
      "   [  3  12  17]\n",
      "   [ 10  20  36]]\n",
      "\n",
      "  [[  9  18  27]\n",
      "   [  9  13  18]\n",
      "   [  4   8   9]\n",
      "   ...\n",
      "   [ 15  26  40]\n",
      "   [  4   8  13]\n",
      "   [ 14  18  36]]\n",
      "\n",
      "  [[  9  15  26]\n",
      "   [  4   7  11]\n",
      "   [  3   6  10]\n",
      "   ...\n",
      "   [ 22  38  66]\n",
      "   [ 19  35  49]\n",
      "   [ 22  33  53]]\n",
      "\n",
      "  ...\n",
      "\n",
      "  [[ 45 125 112]\n",
      "   [ 54 115 112]\n",
      "   [ 67 138 128]\n",
      "   ...\n",
      "   [ 19  28  41]\n",
      "   [ 44  66  90]\n",
      "   [ 41  54  73]]\n",
      "\n",
      "  [[ 51 125 121]\n",
      "   [ 73 133 125]\n",
      "   [ 25  56  75]\n",
      "   ...\n",
      "   [ 40  51  78]\n",
      "   [ 11  18  31]\n",
      "   [ 11  12  22]]\n",
      "\n",
      "  [[ 62  94 103]\n",
      "   [ 47  61  80]\n",
      "   [ 12  19  39]\n",
      "   ...\n",
      "   [ 25  24  32]\n",
      "   [ 25  32  53]\n",
      "   [ 40  56  73]]]]\n",
      "(846, 48, 48, 3)\n"
     ]
    }
   ],
   "source": [
    "print(X)\n",
    "print(shape(X))"
   ]
  },
  {
   "cell_type": "code",
   "execution_count": 12,
   "id": "4625c4d1",
   "metadata": {},
   "outputs": [],
   "source": [
    "from keras.utils import np_utils\n",
    "y=np_utils.to_categorical(Y,6)"
   ]
  },
  {
   "cell_type": "code",
   "execution_count": 13,
   "id": "d5cf3390",
   "metadata": {},
   "outputs": [],
   "source": [
    "shape(Y)\n",
    "Y=np.array(Y)"
   ]
  },
  {
   "cell_type": "code",
   "execution_count": 14,
   "id": "b1bb23eb",
   "metadata": {},
   "outputs": [
    {
     "name": "stdout",
     "output_type": "stream",
     "text": [
      "(846,)\n"
     ]
    }
   ],
   "source": [
    "print(shape(Y))"
   ]
  },
  {
   "cell_type": "code",
   "execution_count": 15,
   "id": "1c78188e",
   "metadata": {},
   "outputs": [],
   "source": [
    "X_train,X_test,y_train,y_test=train_test_split(X,Y,test_size=0.2,random_state=4)"
   ]
  },
  {
   "cell_type": "code",
   "execution_count": 16,
   "id": "86d964ef",
   "metadata": {},
   "outputs": [],
   "source": [
    "batch_size = 16\n",
    "nb_classes =4\n",
    "nb_epochs = 10\n",
    "img_rows, img_columns = 48, 48\n",
    "img_channel = 3\n",
    "nb_filters = 32\n",
    "nb_pool = 2\n",
    "nb_conv = 3"
   ]
  },
  {
   "cell_type": "code",
   "execution_count": 17,
   "id": "3d75e298",
   "metadata": {},
   "outputs": [],
   "source": [
    "model = tf.keras.Sequential([\n",
    "    tf.keras.layers.Conv2D(6, (3,3), padding='same', activation=tf.nn.relu,\n",
    "                           input_shape=(48, 48, 3)),\n",
    "    tf.keras.layers.MaxPooling2D((3, 3), strides=3),\n",
    "    tf.keras.layers.Softmax(),\n",
    "    tf.keras.layers.Conv2D(16, (3,3), padding='same', activation=tf.nn.relu),\n",
    "    tf.keras.layers.Conv2D(16, (3,3), padding='same', activation=tf.nn.relu),\n",
    "    tf.keras.layers.MaxPooling2D((4, 4), strides=4),\n",
    "    tf.keras.layers.Flatten(),\n",
    "    tf.keras.layers.Dense(64, activation=tf.nn.relu),\n",
    "    tf.keras.layers.Dropout(0.1),\n",
    "    tf.keras.layers.Dense(6,  activation=tf.nn.softmax)\n",
    "])"
   ]
  },
  {
   "cell_type": "code",
   "execution_count": 18,
   "id": "82bb6a66",
   "metadata": {},
   "outputs": [],
   "source": [
    "model.compile(optimizer=\"adam\",loss=\"sparse_categorical_crossentropy\",metrics=[\"accuracy\"])"
   ]
  },
  {
   "cell_type": "code",
   "execution_count": 19,
   "id": "6b34698b",
   "metadata": {},
   "outputs": [
    {
     "name": "stdout",
     "output_type": "stream",
     "text": [
      "Epoch 1/20\n",
      "43/43 [==============================] - 4s 46ms/step - loss: 1.6167 - accuracy: 0.3062 - val_loss: 1.3867 - val_accuracy: 0.3235\n",
      "Epoch 2/20\n",
      "43/43 [==============================] - 1s 26ms/step - loss: 1.0372 - accuracy: 0.5133 - val_loss: 0.8229 - val_accuracy: 0.6706\n",
      "Epoch 3/20\n",
      "43/43 [==============================] - 1s 27ms/step - loss: 0.8025 - accuracy: 0.6213 - val_loss: 0.7256 - val_accuracy: 0.6882\n",
      "Epoch 4/20\n",
      "43/43 [==============================] - 1s 28ms/step - loss: 0.7233 - accuracy: 0.6716 - val_loss: 0.6106 - val_accuracy: 0.7471\n",
      "Epoch 5/20\n",
      "43/43 [==============================] - 1s 27ms/step - loss: 0.6496 - accuracy: 0.7086 - val_loss: 0.5357 - val_accuracy: 0.7941\n",
      "Epoch 6/20\n",
      "43/43 [==============================] - 1s 27ms/step - loss: 0.6299 - accuracy: 0.6938 - val_loss: 0.5394 - val_accuracy: 0.7941\n",
      "Epoch 7/20\n",
      "43/43 [==============================] - 1s 25ms/step - loss: 0.5644 - accuracy: 0.7559 - val_loss: 0.5379 - val_accuracy: 0.7941\n",
      "Epoch 8/20\n",
      "43/43 [==============================] - 1s 20ms/step - loss: 0.6225 - accuracy: 0.7456 - val_loss: 0.5266 - val_accuracy: 0.8059\n",
      "Epoch 9/20\n",
      "43/43 [==============================] - 1s 22ms/step - loss: 0.5555 - accuracy: 0.7707 - val_loss: 0.5001 - val_accuracy: 0.8118\n",
      "Epoch 10/20\n",
      "43/43 [==============================] - 1s 26ms/step - loss: 0.5596 - accuracy: 0.7544 - val_loss: 0.6628 - val_accuracy: 0.7000\n",
      "Epoch 11/20\n",
      "43/43 [==============================] - 1s 27ms/step - loss: 0.5288 - accuracy: 0.7766 - val_loss: 0.4486 - val_accuracy: 0.8176\n",
      "Epoch 12/20\n",
      "43/43 [==============================] - 1s 21ms/step - loss: 0.4885 - accuracy: 0.7751 - val_loss: 0.6278 - val_accuracy: 0.7529\n",
      "Epoch 13/20\n",
      "43/43 [==============================] - 1s 19ms/step - loss: 0.4741 - accuracy: 0.8018 - val_loss: 0.5133 - val_accuracy: 0.7647\n",
      "Epoch 14/20\n",
      "43/43 [==============================] - 1s 20ms/step - loss: 0.4056 - accuracy: 0.8358 - val_loss: 0.5196 - val_accuracy: 0.7706\n",
      "Epoch 15/20\n",
      "43/43 [==============================] - 1s 21ms/step - loss: 0.4392 - accuracy: 0.8358 - val_loss: 0.3866 - val_accuracy: 0.8647\n",
      "Epoch 16/20\n",
      "43/43 [==============================] - 1s 20ms/step - loss: 0.3865 - accuracy: 0.8521 - val_loss: 0.4852 - val_accuracy: 0.7882\n",
      "Epoch 17/20\n",
      "43/43 [==============================] - 1s 18ms/step - loss: 0.4208 - accuracy: 0.8447 - val_loss: 0.5040 - val_accuracy: 0.7706\n",
      "Epoch 18/20\n",
      "43/43 [==============================] - 1s 21ms/step - loss: 0.3812 - accuracy: 0.8373 - val_loss: 0.4536 - val_accuracy: 0.8353\n",
      "Epoch 19/20\n",
      "43/43 [==============================] - 1s 23ms/step - loss: 0.3441 - accuracy: 0.8654 - val_loss: 0.3958 - val_accuracy: 0.8647\n",
      "Epoch 20/20\n",
      "43/43 [==============================] - 1s 26ms/step - loss: 0.3405 - accuracy: 0.8580 - val_loss: 0.3768 - val_accuracy: 0.8588\n"
     ]
    },
    {
     "data": {
      "text/plain": [
       "<keras.callbacks.History at 0x206cb773bb0>"
      ]
     },
     "execution_count": 19,
     "metadata": {},
     "output_type": "execute_result"
    }
   ],
   "source": [
    "model.fit(X_train,y_train,batch_size=batch_size,epochs=20,verbose=1,validation_data=(X_test,y_test))"
   ]
  },
  {
   "cell_type": "code",
   "execution_count": 30,
   "id": "f8b7b4c7",
   "metadata": {},
   "outputs": [
    {
     "name": "stdout",
     "output_type": "stream",
     "text": [
      "Test Score:  0.39285534620285034\n",
      "Test accuracy:  0.8705882430076599\n"
     ]
    }
   ],
   "source": [
    "score = model.evaluate(X_test, y_test, verbose = 0 )\n",
    "print(\"Test Score: \", score[0])\n",
    "print(\"Test accuracy: \", score[1])"
   ]
  },
  {
   "cell_type": "code",
   "execution_count": 29,
   "id": "f56b9eca",
   "metadata": {},
   "outputs": [
    {
     "name": "stdout",
     "output_type": "stream",
     "text": [
      "Epoch 1/25\n",
      "43/43 [==============================] - 1s 29ms/step - loss: 0.1743 - accuracy: 0.9246 - val_loss: 0.3739 - val_accuracy: 0.8765\n",
      "Epoch 2/25\n",
      "43/43 [==============================] - 1s 27ms/step - loss: 0.2114 - accuracy: 0.9186 - val_loss: 0.3226 - val_accuracy: 0.8765\n",
      "Epoch 3/25\n",
      "43/43 [==============================] - 1s 26ms/step - loss: 0.1732 - accuracy: 0.9305 - val_loss: 0.3866 - val_accuracy: 0.8471\n",
      "Epoch 4/25\n",
      "43/43 [==============================] - 1s 27ms/step - loss: 0.1379 - accuracy: 0.9497 - val_loss: 0.4288 - val_accuracy: 0.8353\n",
      "Epoch 5/25\n",
      "43/43 [==============================] - 1s 27ms/step - loss: 0.1508 - accuracy: 0.9482 - val_loss: 0.3550 - val_accuracy: 0.8412\n",
      "Epoch 6/25\n",
      "43/43 [==============================] - 1s 21ms/step - loss: 0.1419 - accuracy: 0.9482 - val_loss: 0.3318 - val_accuracy: 0.8824\n",
      "Epoch 7/25\n",
      "43/43 [==============================] - 1s 21ms/step - loss: 0.1398 - accuracy: 0.9467 - val_loss: 0.4121 - val_accuracy: 0.8706\n",
      "Epoch 8/25\n",
      "43/43 [==============================] - 1s 19ms/step - loss: 0.1364 - accuracy: 0.9408 - val_loss: 0.4508 - val_accuracy: 0.8294\n",
      "Epoch 9/25\n",
      "43/43 [==============================] - 1s 24ms/step - loss: 0.1258 - accuracy: 0.9571 - val_loss: 0.3942 - val_accuracy: 0.8412\n",
      "Epoch 10/25\n",
      "43/43 [==============================] - 1s 26ms/step - loss: 0.1158 - accuracy: 0.9556 - val_loss: 0.4676 - val_accuracy: 0.8235\n",
      "Epoch 11/25\n",
      "43/43 [==============================] - 1s 22ms/step - loss: 0.1126 - accuracy: 0.9630 - val_loss: 0.3731 - val_accuracy: 0.8706\n",
      "Epoch 12/25\n",
      "43/43 [==============================] - 1s 23ms/step - loss: 0.3155 - accuracy: 0.8743 - val_loss: 0.7641 - val_accuracy: 0.7471\n",
      "Epoch 13/25\n",
      "43/43 [==============================] - 1s 24ms/step - loss: 0.2225 - accuracy: 0.9201 - val_loss: 0.3757 - val_accuracy: 0.8353\n",
      "Epoch 14/25\n",
      "43/43 [==============================] - 1s 23ms/step - loss: 0.1257 - accuracy: 0.9615 - val_loss: 0.4101 - val_accuracy: 0.8412\n",
      "Epoch 15/25\n",
      "43/43 [==============================] - 1s 25ms/step - loss: 0.1211 - accuracy: 0.9556 - val_loss: 0.4563 - val_accuracy: 0.8059\n",
      "Epoch 16/25\n",
      "43/43 [==============================] - 1s 25ms/step - loss: 0.1114 - accuracy: 0.9601 - val_loss: 0.3808 - val_accuracy: 0.8765\n",
      "Epoch 17/25\n",
      "43/43 [==============================] - 1s 26ms/step - loss: 0.1957 - accuracy: 0.9275 - val_loss: 0.7024 - val_accuracy: 0.7824\n",
      "Epoch 18/25\n",
      "43/43 [==============================] - 1s 25ms/step - loss: 0.1289 - accuracy: 0.9571 - val_loss: 0.3513 - val_accuracy: 0.8765\n",
      "Epoch 19/25\n",
      "43/43 [==============================] - 1s 24ms/step - loss: 0.1159 - accuracy: 0.9541 - val_loss: 0.5163 - val_accuracy: 0.8118\n",
      "Epoch 20/25\n",
      "43/43 [==============================] - 1s 24ms/step - loss: 0.0948 - accuracy: 0.9719 - val_loss: 0.3404 - val_accuracy: 0.8647\n",
      "Epoch 21/25\n",
      "43/43 [==============================] - 1s 27ms/step - loss: 0.0941 - accuracy: 0.9689 - val_loss: 0.4396 - val_accuracy: 0.8294\n",
      "Epoch 22/25\n",
      "43/43 [==============================] - 1s 27ms/step - loss: 0.0984 - accuracy: 0.9704 - val_loss: 0.4723 - val_accuracy: 0.8294\n",
      "Epoch 23/25\n",
      "43/43 [==============================] - 1s 26ms/step - loss: 0.1050 - accuracy: 0.9660 - val_loss: 0.3322 - val_accuracy: 0.8824\n",
      "Epoch 24/25\n",
      "43/43 [==============================] - 1s 25ms/step - loss: 0.0810 - accuracy: 0.9778 - val_loss: 0.4600 - val_accuracy: 0.8471\n",
      "Epoch 25/25\n",
      "43/43 [==============================] - 1s 21ms/step - loss: 0.0719 - accuracy: 0.9778 - val_loss: 0.3929 - val_accuracy: 0.8706\n"
     ]
    },
    {
     "data": {
      "text/plain": [
       "<keras.callbacks.History at 0x206cec54fa0>"
      ]
     },
     "execution_count": 29,
     "metadata": {},
     "output_type": "execute_result"
    }
   ],
   "source": [
    "model.fit(X_train,y_train,batch_size=batch_size,epochs=25,verbose=1,validation_data=(X_test,y_test))"
   ]
  },
  {
   "cell_type": "code",
   "execution_count": 22,
   "id": "a5dc426e",
   "metadata": {},
   "outputs": [
    {
     "name": "stdout",
     "output_type": "stream",
     "text": [
      "Test Score:  0.3613262474536896\n",
      "Test accuracy:  0.8647058606147766\n"
     ]
    }
   ],
   "source": [
    "score = model.evaluate(X_test, y_test, verbose = 0 )\n",
    "print(\"Test Score: \", score[0])\n",
    "print(\"Test accuracy: \", score[1])"
   ]
  },
  {
   "cell_type": "markdown",
   "id": "2cc58c0d",
   "metadata": {},
   "source": [
    "### Metrics"
   ]
  },
  {
   "cell_type": "code",
   "execution_count": 23,
   "id": "227b367d",
   "metadata": {},
   "outputs": [
    {
     "name": "stdout",
     "output_type": "stream",
     "text": [
      "[[2.29091123e-02 5.34303690e-05 4.51735705e-02 1.00492876e-07\n",
      "  9.31826293e-01 3.73951552e-05]\n",
      " [1.15733761e-04 3.95923061e-03 1.25191220e-12 9.57913653e-06\n",
      "  2.50054977e-10 9.95915473e-01]\n",
      " [5.45978935e-07 9.98778522e-01 2.49741206e-15 3.58950347e-05\n",
      "  1.52123333e-12 1.18506176e-03]\n",
      " ...\n",
      " [9.99981046e-01 1.65765107e-06 1.06415848e-06 2.96810354e-11\n",
      "  1.03569018e-05 5.81353061e-06]\n",
      " [1.18996340e-05 1.81930204e-08 9.60509717e-01 5.65194003e-10\n",
      "  3.94782871e-02 1.64318230e-08]\n",
      " [1.15407642e-03 2.92937534e-06 3.35484713e-01 1.15215943e-08\n",
      "  6.63353205e-01 5.11636244e-06]]\n"
     ]
    }
   ],
   "source": [
    "y_pred=model.predict(X_test,verbose=0)\n",
    "print(y_pred)\n"
   ]
  },
  {
   "cell_type": "code",
   "execution_count": 24,
   "id": "d8046fd0",
   "metadata": {},
   "outputs": [],
   "source": [
    "y_predval=[]\n",
    "for i in y_pred:\n",
    "    y_predval.append(np.argmax(i))"
   ]
  },
  {
   "cell_type": "code",
   "execution_count": 25,
   "id": "de17d4d4",
   "metadata": {},
   "outputs": [
    {
     "data": {
      "image/png": "[encoded data removed]",
      "text/plain": [
       "<Figure size 432x288 with 2 Axes>"
      ]
     },
     "metadata": {
      "needs_background": "light"
     },
     "output_type": "display_data"
    }
   ],
   "source": [
    "import seaborn as sns\n",
    "from sklearn.metrics import confusion_matrix,ConfusionMatrixDisplay\n",
    "\n",
    "cm = confusion_matrix(y_test, y_predval)\n",
    "f = sns.heatmap(cm, annot=True, fmt='d')\n",
    "f.set_title(\"Confusion matrix\")\n",
    "\n",
    "f.xaxis.set_ticklabels([\"Croton\",\"Dumb\\nCane\",\"Horse\\nbush\",\"Screw\\npine\",\"Silver\\nleaf\",\"Variegated\\nscrewpine\"])\n",
    "f.yaxis.set_ticklabels([\"Croton\",\"Dumb\\nCane\",\"Horse\\nbush\",\"Screw\\npine\",\"Silver\\nleaf\",\"Variegated\\nscrewpine\"])\n",
    "plt.ylabel(\"Predicted crop type\",labelpad=15)\n",
    "plt.xlabel(\"Actual crop type\",labelpad=15)\n",
    "plt.show()"
   ]
  },
  {
   "cell_type": "markdown",
   "id": "35b19e86",
   "metadata": {},
   "source": [
    "### Accuracy, Precision, Recall and f1-score"
   ]
  },
  {
   "cell_type": "code",
   "execution_count": 26,
   "id": "e14518b5",
   "metadata": {},
   "outputs": [
    {
     "name": "stdout",
     "output_type": "stream",
     "text": [
      "Accuracy :\n",
      "0.8647058823529412\n",
      "                      precision    recall  f1-score   support\n",
      "\n",
      "              Croton       0.91      0.86      0.89        37\n",
      "            DumbCane       0.88      0.96      0.92        23\n",
      "           Horsebush       0.81      0.85      0.83        34\n",
      "           Screwpine       0.96      1.00      0.98        26\n",
      "          Silverleaf       0.61      0.64      0.62        22\n",
      "Variegated screwpine       1.00      0.86      0.92        28\n",
      "\n",
      "            accuracy                           0.86       170\n",
      "           macro avg       0.86      0.86      0.86       170\n",
      "        weighted avg       0.87      0.86      0.87       170\n",
      "\n"
     ]
    }
   ],
   "source": [
    "import numpy\n",
    "import sklearn.metrics\n",
    "import numpy\n",
    "import sklearn.metrics\n",
    "\n",
    "r = sklearn.metrics.confusion_matrix(y_test, y_predval)\n",
    "\n",
    "\n",
    "tp=r[0][0]+r[1][1]+r[2][2]+r[3][3]+r[4][4]+r[5][5]\n",
    "\n",
    "acc = tp / numpy.sum(r)\n",
    "print(\"Accuracy :\")\n",
    "print(acc)\n",
    "target_names=[\"Croton\",\"DumbCane\",\"Horsebush\",\"Screwpine\",\"Silverleaf\",\"Variegated screwpine\"]\n",
    "precision = sklearn.metrics.classification_report(y_test,y_predval,target_names=target_names)\n",
    "print(precision)"
   ]
  },
  {
   "cell_type": "markdown",
   "id": "33471b1e",
   "metadata": {},
   "source": [
    "### Classification"
   ]
  },
  {
   "cell_type": "code",
   "execution_count": 27,
   "id": "d84df998",
   "metadata": {},
   "outputs": [
    {
     "name": "stdout",
     "output_type": "stream",
     "text": [
      "1/1 [==============================] - 0s 252ms/step\n",
      "Predicted Stage :  Horsebush\n"
     ]
    }
   ],
   "source": [
    "from tensorflow.keras.preprocessing import image\n",
    "test_image=image.load_img(\"pic7.jpeg\",target_size=(48,48))\n",
    "test_image=image.img_to_array(test_image)\n",
    "test_image=np.expand_dims(test_image,axis=0)\n",
    "arr=model.predict(test_image)\n",
    "arr=numpy.ndarray.tolist(arr)\n",
    "t=arr[0].index(max(arr[0]))\n",
    "print(\"Predicted Stage : \",Categories[t])"
   ]
  },
  {
   "cell_type": "code",
   "execution_count": 28,
   "id": "2f50fc98",
   "metadata": {},
   "outputs": [
    {
     "name": "stderr",
     "output_type": "stream",
     "text": [
      "WARNING:absl:Found untraced functions such as _jit_compiled_convolution_op, _jit_compiled_convolution_op, _jit_compiled_convolution_op while saving (showing 3 of 3). These functions will not be directly callable after loading.\n"
     ]
    },
    {
     "name": "stdout",
     "output_type": "stream",
     "text": [
      "INFO:tensorflow:Assets written to: classify_crop_trial2\\assets\n"
     ]
    },
    {
     "name": "stderr",
     "output_type": "stream",
     "text": [
      "INFO:tensorflow:Assets written to: classify_crop_trial2\\assets\n"
     ]
    }
   ],
   "source": [
    "model.save('classify_crop_trial2')"
   ]
  },
  {
   "cell_type": "code",
   "execution_count": 34,
   "id": "2aafed04",
   "metadata": {},
   "outputs": [],
   "source": [
    "from tensorflow import keras\n",
    "model = keras.models.load_model('classify_crop_trial2')"
   ]
  },
  {
   "cell_type": "code",
   "execution_count": 35,
   "id": "97243228",
   "metadata": {},
   "outputs": [
    {
     "name": "stdout",
     "output_type": "stream",
     "text": [
      "Test Score:  0.3613262474536896\n",
      "Test accuracy:  0.8647058606147766\n"
     ]
    }
   ],
   "source": [
    "score = model.evaluate(X_test, y_test, verbose = 0 )\n",
    "print(\"Test Score: \", score[0])\n",
    "print(\"Test accuracy: \", score[1])"
   ]
  },
  {
   "cell_type": "code",
   "execution_count": null,
   "id": "6cdd3868",
   "metadata": {},
   "outputs": [],
   "source": []
  },
  {
   "cell_type": "code",
   "execution_count": null,
   "id": "e31640a8",
   "metadata": {},
   "outputs": [],
   "source": []
  }
 ],
 "metadata": {
  "kernelspec": {
   "display_name": "Python 3 (ipykernel)",
   "language": "python",
   "name": "python3"
  },
  "language_info": {
   "codemirror_mode": {
    "name": "ipython",
    "version": 3
   },
   "file_extension": ".py",
   "mimetype": "text/x-python",
   "name": "python",
   "nbconvert_exporter": "python",
   "pygments_lexer": "ipython3",
   "version": "3.9.12"
  }
 },
 "nbformat": 4,
 "nbformat_minor": 5
}
