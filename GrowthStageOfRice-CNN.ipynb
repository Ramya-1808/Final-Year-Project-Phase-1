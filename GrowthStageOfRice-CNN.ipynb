{
 "cells": [
  {
   "cell_type": "code",
   "execution_count": 1,
   "id": "52178160",
   "metadata": {},
   "outputs": [],
   "source": [
    "import shutil\n",
    "import os\n",
    "import numpy as np\n",
    "import argparse"
   ]
  },
  {
   "cell_type": "code",
   "execution_count": 2,
   "id": "bdb4a0ec",
   "metadata": {},
   "outputs": [],
   "source": [
    "import random\n",
    "import keras"
   ]
  },
  {
   "cell_type": "code",
   "execution_count": 3,
   "id": "d4031f07",
   "metadata": {},
   "outputs": [],
   "source": [
    "from tensorflow.keras import Sequential"
   ]
  },
  {
   "cell_type": "code",
   "execution_count": 4,
   "id": "e193a8ba",
   "metadata": {},
   "outputs": [
    {
     "name": "stderr",
     "output_type": "stream",
     "text": [
      "WARNING (theano.tensor.blas): Using NumPy C-API based implementation for BLAS functions.\n"
     ]
    }
   ],
   "source": [
    "import tensorflow as tf\n",
    "from keras.layers.core import Dense, Activation, Dropout, Flatten\n",
    "from keras.layers.convolutional import Convolution2D, MaxPooling2D\n",
    "from tensorflow.keras.optimizers import SGD\n",
    "from tensorflow.keras.optimizers import Adam\n",
    "from keras.utils import np_utils\n",
    "from sklearn.tree import DecisionTreeClassifier # Import Decision Tree Classifier\n",
    "from sklearn import metrics\n",
    "from sklearn.utils import shuffle\n",
    "from sklearn.model_selection import train_test_split\n",
    "import matplotlib.image as mpimg\n",
    "import matplotlib.pyplot as plt\n",
    "import numpy as np\n",
    "import os\n",
    "import cv2\n",
    "import random\n",
    "from numpy import *\n",
    "from PIL import Image\n",
    "import theano"
   ]
  },
  {
   "cell_type": "code",
   "execution_count": 5,
   "id": "d7b2abaf",
   "metadata": {},
   "outputs": [],
   "source": [
    "path_test=\"C:\\\\Users\\\\Nithin's PC\\\\\""
   ]
  },
  {
   "cell_type": "code",
   "execution_count": 6,
   "id": "1d68b07b",
   "metadata": {},
   "outputs": [],
   "source": [
    "Categories=[\"week1\",\"week2\",\"week3\"]"
   ]
  },
  {
   "cell_type": "code",
   "execution_count": 14,
   "id": "cd8e2e04",
   "metadata": {},
   "outputs": [],
   "source": [
    "training=[]\n",
    "def createTrainingData():\n",
    "    for cat in Categories:\n",
    "        path=os.path.join(path_test,cat)\n",
    "        class_num=Categories.index(cat)\n",
    "        for img in os.listdir(path):\n",
    "            img_array=cv2.imread(os.path.join(path,img))\n",
    "            new_array=cv2.resize(img_array,(48,48))\n",
    "            training.append([new_array,class_num])\n"
   ]
  },
  {
   "cell_type": "code",
   "execution_count": 55,
   "id": "08a3af0c",
   "metadata": {},
   "outputs": [],
   "source": [
    "createTrainingData()"
   ]
  },
  {
   "cell_type": "code",
   "execution_count": 56,
   "id": "7631e117",
   "metadata": {},
   "outputs": [],
   "source": [
    "random.shuffle(training)\n",
    "training=training[:100000]"
   ]
  },
  {
   "cell_type": "code",
   "execution_count": 57,
   "id": "b51fb9c2",
   "metadata": {},
   "outputs": [],
   "source": [
    "X=[]\n",
    "Y=[]\n",
    "for features,label in training:\n",
    "    X.append(features)\n",
    "    Y.append(label)\n",
    "X=np.array(X).reshape(-1,48,48,3)"
   ]
  },
  {
   "cell_type": "code",
   "execution_count": 58,
   "id": "e8230e14",
   "metadata": {},
   "outputs": [
    {
     "name": "stdout",
     "output_type": "stream",
     "text": [
      "[[[[129 188 169]\n",
      "   [129 188 169]\n",
      "   [129 188 169]\n",
      "   ...\n",
      "   [101 154 148]\n",
      "   [101 154 148]\n",
      "   [101 154 148]]\n",
      "\n",
      "  [[129 188 169]\n",
      "   [129 188 169]\n",
      "   [129 188 169]\n",
      "   ...\n",
      "   [101 154 148]\n",
      "   [101 154 148]\n",
      "   [101 154 148]]\n",
      "\n",
      "  [[129 188 169]\n",
      "   [129 188 169]\n",
      "   [129 188 169]\n",
      "   ...\n",
      "   [101 154 148]\n",
      "   [101 154 148]\n",
      "   [101 154 148]]\n",
      "\n",
      "  ...\n",
      "\n",
      "  [[ 92 142 129]\n",
      "   [ 92 142 129]\n",
      "   [ 92 142 129]\n",
      "   ...\n",
      "   [ 79 138 124]\n",
      "   [ 79 138 124]\n",
      "   [ 79 138 124]]\n",
      "\n",
      "  [[ 92 142 129]\n",
      "   [ 92 142 129]\n",
      "   [ 92 142 129]\n",
      "   ...\n",
      "   [ 79 138 124]\n",
      "   [ 79 138 124]\n",
      "   [ 79 138 124]]\n",
      "\n",
      "  [[ 92 142 129]\n",
      "   [ 92 142 129]\n",
      "   [ 92 142 129]\n",
      "   ...\n",
      "   [ 79 138 124]\n",
      "   [ 79 138 124]\n",
      "   [ 79 138 124]]]\n",
      "\n",
      "\n",
      " [[[141 157 138]\n",
      "   [141 157 138]\n",
      "   [137 157 136]\n",
      "   ...\n",
      "   [ 86 103  94]\n",
      "   [ 87 103  95]\n",
      "   [ 87 103  95]]\n",
      "\n",
      "  [[141 157 138]\n",
      "   [141 157 138]\n",
      "   [137 157 135]\n",
      "   ...\n",
      "   [ 86 103  93]\n",
      "   [ 87 103  95]\n",
      "   [ 87 103  95]]\n",
      "\n",
      "  [[141 158 138]\n",
      "   [141 158 138]\n",
      "   [137 158 135]\n",
      "   ...\n",
      "   [ 86 103  92]\n",
      "   [ 86 103  94]\n",
      "   [ 86 103  94]]\n",
      "\n",
      "  ...\n",
      "\n",
      "  [[154 180 167]\n",
      "   [154 180 167]\n",
      "   [155 184 171]\n",
      "   ...\n",
      "   [137 171 160]\n",
      "   [137 171 159]\n",
      "   [137 171 159]]\n",
      "\n",
      "  [[160 186 175]\n",
      "   [160 186 175]\n",
      "   [161 189 178]\n",
      "   ...\n",
      "   [139 173 163]\n",
      "   [139 172 161]\n",
      "   [139 172 161]]\n",
      "\n",
      "  [[160 186 175]\n",
      "   [160 186 175]\n",
      "   [161 189 178]\n",
      "   ...\n",
      "   [140 173 162]\n",
      "   [139 172 161]\n",
      "   [139 172 161]]]\n",
      "\n",
      "\n",
      " [[[119 156 146]\n",
      "   [119 156 146]\n",
      "   [121 158 148]\n",
      "   ...\n",
      "   [ 95 123 127]\n",
      "   [ 95 123 127]\n",
      "   [ 95 123 127]]\n",
      "\n",
      "  [[119 156 147]\n",
      "   [119 156 147]\n",
      "   [121 158 149]\n",
      "   ...\n",
      "   [ 94 123 126]\n",
      "   [ 94 123 126]\n",
      "   [ 94 123 126]]\n",
      "\n",
      "  [[118 156 149]\n",
      "   [118 156 149]\n",
      "   [121 159 151]\n",
      "   ...\n",
      "   [ 92 122 124]\n",
      "   [ 92 122 124]\n",
      "   [ 92 122 124]]\n",
      "\n",
      "  ...\n",
      "\n",
      "  [[153 181 172]\n",
      "   [153 181 172]\n",
      "   [153 181 172]\n",
      "   ...\n",
      "   [111 139 141]\n",
      "   [113 139 141]\n",
      "   [113 139 141]]\n",
      "\n",
      "  [[129 161 147]\n",
      "   [129 161 147]\n",
      "   [129 161 147]\n",
      "   ...\n",
      "   [113 149 145]\n",
      "   [114 149 146]\n",
      "   [114 149 146]]\n",
      "\n",
      "  [[120 154 138]\n",
      "   [120 154 138]\n",
      "   [120 154 138]\n",
      "   ...\n",
      "   [114 152 147]\n",
      "   [114 153 147]\n",
      "   [114 153 147]]]\n",
      "\n",
      "\n",
      " ...\n",
      "\n",
      "\n",
      " [[[ 76  78  72]\n",
      "   [ 76  78  72]\n",
      "   [ 77  77  72]\n",
      "   ...\n",
      "   [ 90  98  83]\n",
      "   [ 82  87  73]\n",
      "   [ 80  85  71]]\n",
      "\n",
      "  [[ 76  78  72]\n",
      "   [ 76  78  72]\n",
      "   [ 77  77  72]\n",
      "   ...\n",
      "   [ 90  98  83]\n",
      "   [ 82  87  73]\n",
      "   [ 80  85  71]]\n",
      "\n",
      "  [[ 76  78  72]\n",
      "   [ 76  78  72]\n",
      "   [ 77  77  72]\n",
      "   ...\n",
      "   [ 90  98  83]\n",
      "   [ 82  88  73]\n",
      "   [ 80  85  71]]\n",
      "\n",
      "  ...\n",
      "\n",
      "  [[ 68  85  61]\n",
      "   [ 68  84  61]\n",
      "   [ 66  80  60]\n",
      "   ...\n",
      "   [ 84  97  84]\n",
      "   [ 99 109  96]\n",
      "   [103 112 100]]\n",
      "\n",
      "  [[ 67  84  60]\n",
      "   [ 66  83  60]\n",
      "   [ 65  78  58]\n",
      "   ...\n",
      "   [ 84  98  84]\n",
      "   [ 99 109  97]\n",
      "   [103 112 100]]\n",
      "\n",
      "  [[ 67  84  60]\n",
      "   [ 66  83  60]\n",
      "   [ 65  78  58]\n",
      "   ...\n",
      "   [ 84  98  84]\n",
      "   [ 99 109  97]\n",
      "   [103 112 100]]]\n",
      "\n",
      "\n",
      " [[[ 68  85  56]\n",
      "   [ 68  85  56]\n",
      "   [ 68  85  56]\n",
      "   ...\n",
      "   [101 133 100]\n",
      "   [101 133 100]\n",
      "   [101 133 100]]\n",
      "\n",
      "  [[ 68  85  56]\n",
      "   [ 68  85  56]\n",
      "   [ 68  85  56]\n",
      "   ...\n",
      "   [101 133 100]\n",
      "   [101 133 100]\n",
      "   [101 133 100]]\n",
      "\n",
      "  [[ 68  85  56]\n",
      "   [ 68  85  56]\n",
      "   [ 68  85  56]\n",
      "   ...\n",
      "   [101 133 100]\n",
      "   [101 133 100]\n",
      "   [101 133 100]]\n",
      "\n",
      "  ...\n",
      "\n",
      "  [[ 51  67  39]\n",
      "   [ 51  67  39]\n",
      "   [ 51  67  39]\n",
      "   ...\n",
      "   [129 153 134]\n",
      "   [129 153 134]\n",
      "   [129 153 134]]\n",
      "\n",
      "  [[ 51  67  39]\n",
      "   [ 51  67  39]\n",
      "   [ 51  67  39]\n",
      "   ...\n",
      "   [129 153 134]\n",
      "   [129 153 134]\n",
      "   [129 153 134]]\n",
      "\n",
      "  [[ 51  67  39]\n",
      "   [ 51  67  39]\n",
      "   [ 51  67  39]\n",
      "   ...\n",
      "   [129 153 134]\n",
      "   [129 153 134]\n",
      "   [129 153 134]]]\n",
      "\n",
      "\n",
      " [[[ 86 111 106]\n",
      "   [ 86 111 106]\n",
      "   [ 84 109 104]\n",
      "   ...\n",
      "   [ 75 101 104]\n",
      "   [ 75 101 104]\n",
      "   [ 75 101 104]]\n",
      "\n",
      "  [[ 86 111 106]\n",
      "   [ 86 111 106]\n",
      "   [ 84 109 104]\n",
      "   ...\n",
      "   [ 75 101 104]\n",
      "   [ 75 101 104]\n",
      "   [ 75 101 104]]\n",
      "\n",
      "  [[ 85 111 105]\n",
      "   [ 85 111 105]\n",
      "   [ 84 109 104]\n",
      "   ...\n",
      "   [ 74 100 103]\n",
      "   [ 74 100 103]\n",
      "   [ 74 100 103]]\n",
      "\n",
      "  ...\n",
      "\n",
      "  [[ 65  80  70]\n",
      "   [ 65  80  70]\n",
      "   [ 66  84  72]\n",
      "   ...\n",
      "   [ 56  74  58]\n",
      "   [ 56  73  58]\n",
      "   [ 56  73  58]]\n",
      "\n",
      "  [[ 66  80  70]\n",
      "   [ 66  80  70]\n",
      "   [ 67  84  72]\n",
      "   ...\n",
      "   [ 55  74  58]\n",
      "   [ 56  73  58]\n",
      "   [ 56  73  58]]\n",
      "\n",
      "  [[ 66  80  70]\n",
      "   [ 66  80  70]\n",
      "   [ 67  83  72]\n",
      "   ...\n",
      "   [ 55  74  58]\n",
      "   [ 56  73  58]\n",
      "   [ 56  73  58]]]]\n",
      "(100000, 48, 48, 3)\n"
     ]
    }
   ],
   "source": [
    "print(X)\n",
    "print(shape(X))"
   ]
  },
  {
   "cell_type": "code",
   "execution_count": 59,
   "id": "4625c4d1",
   "metadata": {},
   "outputs": [],
   "source": [
    "from keras.utils import np_utils\n",
    "y=np_utils.to_categorical(Y,3)"
   ]
  },
  {
   "cell_type": "code",
   "execution_count": 60,
   "id": "d5cf3390",
   "metadata": {},
   "outputs": [],
   "source": [
    "shape(Y)\n",
    "Y=np.array(Y)"
   ]
  },
  {
   "cell_type": "code",
   "execution_count": 61,
   "id": "b1bb23eb",
   "metadata": {},
   "outputs": [
    {
     "name": "stdout",
     "output_type": "stream",
     "text": [
      "(100000,)\n"
     ]
    }
   ],
   "source": [
    "print(shape(Y))"
   ]
  },
  {
   "cell_type": "code",
   "execution_count": 62,
   "id": "1c78188e",
   "metadata": {},
   "outputs": [],
   "source": [
    "X_train,X_test,y_train,y_test=train_test_split(X,Y,test_size=0.2,random_state=4)"
   ]
  },
  {
   "cell_type": "code",
   "execution_count": 63,
   "id": "86d964ef",
   "metadata": {},
   "outputs": [],
   "source": [
    "  batch_size = 16\n",
    "nb_classes =4\n",
    "nb_epochs = 10\n",
    "img_rows, img_columns = 48, 48\n",
    "img_channel = 3\n",
    "nb_filters = 32\n",
    "nb_pool = 2\n",
    "nb_conv = 3"
   ]
  },
  {
   "cell_type": "code",
   "execution_count": 64,
   "id": "3d75e298",
   "metadata": {},
   "outputs": [],
   "source": [
    "model = tf.keras.Sequential([\n",
    "    tf.keras.layers.Conv2D(6, (3,3), padding='same', activation=tf.nn.relu,\n",
    "                           input_shape=(48, 48, 3)),\n",
    "    tf.keras.layers.MaxPooling2D((3, 3), strides=3),\n",
    "    tf.keras.layers.Softmax(),\n",
    "    tf.keras.layers.Conv2D(16, (3,3), padding='same', activation=tf.nn.relu),\n",
    "    tf.keras.layers.Conv2D(16, (3,3), padding='same', activation=tf.nn.relu),\n",
    "    tf.keras.layers.MaxPooling2D((4, 4), strides=4),\n",
    "    tf.keras.layers.Flatten(),\n",
    "    tf.keras.layers.Dense(64, activation=tf.nn.relu),\n",
    "    tf.keras.layers.Dropout(0.1),\n",
    "    tf.keras.layers.Dense(3,  activation=tf.nn.softmax)\n",
    "])"
   ]
  },
  {
   "cell_type": "code",
   "execution_count": 65,
   "id": "82bb6a66",
   "metadata": {},
   "outputs": [],
   "source": [
    "model.compile(optimizer=\"adam\",loss=\"sparse_categorical_crossentropy\",metrics=[\"accuracy\"])"
   ]
  },
  {
   "cell_type": "code",
   "execution_count": 66,
   "id": "6b34698b",
   "metadata": {},
   "outputs": [
    {
     "name": "stdout",
     "output_type": "stream",
     "text": [
      "Epoch 1/5\n",
      "5000/5000 [==============================] - 185s 37ms/step - loss: 0.7106 - accuracy: 0.6729 - val_loss: 0.7188 - val_accuracy: 0.6662\n",
      "Epoch 2/5\n",
      "5000/5000 [==============================] - 182s 36ms/step - loss: 0.5695 - accuracy: 0.7521 - val_loss: 0.4938 - val_accuracy: 0.7882\n",
      "Epoch 3/5\n",
      "5000/5000 [==============================] - 177s 35ms/step - loss: 0.5087 - accuracy: 0.7823 - val_loss: 0.5175 - val_accuracy: 0.7748\n",
      "Epoch 4/5\n",
      "5000/5000 [==============================] - 178s 36ms/step - loss: 0.4771 - accuracy: 0.7976 - val_loss: 0.4324 - val_accuracy: 0.8148\n",
      "Epoch 5/5\n",
      "5000/5000 [==============================] - 178s 36ms/step - loss: 0.4672 - accuracy: 0.8007 - val_loss: 0.3993 - val_accuracy: 0.8322\n"
     ]
    },
    {
     "data": {
      "text/plain": [
       "<tensorflow.python.keras.callbacks.History at 0x21cbf257b20>"
      ]
     },
     "execution_count": 66,
     "metadata": {},
     "output_type": "execute_result"
    }
   ],
   "source": [
    "model.fit(X_train,y_train,batch_size=batch_size,epochs=5,verbose=1,validation_data=(X_test,y_test))"
   ]
  },
  {
   "cell_type": "code",
   "execution_count": 69,
   "id": "f8b7b4c7",
   "metadata": {},
   "outputs": [
    {
     "name": "stdout",
     "output_type": "stream",
     "text": [
      "Test Score:  0.39928552508354187\n",
      "Test accuracy:  0.8321999907493591\n"
     ]
    }
   ],
   "source": [
    "score = model.evaluate(X_test, y_test, verbose = 0 )\n",
    "print(\"Test Score: \", score[0])\n",
    "print(\"Test accuracy: \", score[1])"
   ]
  },
  {
   "cell_type": "code",
   "execution_count": 44,
   "id": "f56b9eca",
   "metadata": {},
   "outputs": [
    {
     "name": "stdout",
     "output_type": "stream",
     "text": [
      "Epoch 1/15\n",
      "500/500 [==============================] - 17s 34ms/step - loss: 0.6164 - accuracy: 0.7293 - val_loss: 0.5618 - val_accuracy: 0.7650\n",
      "Epoch 2/15\n",
      "500/500 [==============================] - 17s 34ms/step - loss: 0.5591 - accuracy: 0.7575 - val_loss: 0.5498 - val_accuracy: 0.7620\n",
      "Epoch 3/15\n",
      "500/500 [==============================] - 18s 36ms/step - loss: 0.5681 - accuracy: 0.7575 - val_loss: 0.7858 - val_accuracy: 0.6725\n",
      "Epoch 4/15\n",
      "500/500 [==============================] - 18s 36ms/step - loss: 0.5179 - accuracy: 0.7811 - val_loss: 0.5990 - val_accuracy: 0.7455\n",
      "Epoch 5/15\n",
      "500/500 [==============================] - 17s 35ms/step - loss: 0.5190 - accuracy: 0.7815 - val_loss: 0.4469 - val_accuracy: 0.8180\n",
      "Epoch 6/15\n",
      "500/500 [==============================] - 20s 41ms/step - loss: 0.5265 - accuracy: 0.7751 - val_loss: 0.4420 - val_accuracy: 0.8210\n",
      "Epoch 7/15\n",
      "500/500 [==============================] - 20s 39ms/step - loss: 0.5026 - accuracy: 0.7851 - val_loss: 0.4329 - val_accuracy: 0.8165\n",
      "Epoch 8/15\n",
      "500/500 [==============================] - 17s 35ms/step - loss: 0.4807 - accuracy: 0.7976 - val_loss: 0.4419 - val_accuracy: 0.8280\n",
      "Epoch 9/15\n",
      "500/500 [==============================] - 17s 35ms/step - loss: 0.4941 - accuracy: 0.7975 - val_loss: 0.3837 - val_accuracy: 0.8375\n",
      "Epoch 10/15\n",
      "500/500 [==============================] - 17s 34ms/step - loss: 0.4413 - accuracy: 0.8119 - val_loss: 0.4511 - val_accuracy: 0.8030\n",
      "Epoch 11/15\n",
      "500/500 [==============================] - 17s 34ms/step - loss: 0.4455 - accuracy: 0.8114 - val_loss: 0.4304 - val_accuracy: 0.8175\n",
      "Epoch 12/15\n",
      "500/500 [==============================] - 17s 35ms/step - loss: 0.4413 - accuracy: 0.8140 - val_loss: 0.4120 - val_accuracy: 0.8220\n",
      "Epoch 13/15\n",
      "500/500 [==============================] - 17s 35ms/step - loss: 0.4302 - accuracy: 0.8181 - val_loss: 0.7308 - val_accuracy: 0.6835\n",
      "Epoch 14/15\n",
      "500/500 [==============================] - 17s 34ms/step - loss: 0.4301 - accuracy: 0.8225 - val_loss: 0.4970 - val_accuracy: 0.7875\n",
      "Epoch 15/15\n",
      "500/500 [==============================] - 17s 34ms/step - loss: 0.4118 - accuracy: 0.8317 - val_loss: 1.1166 - val_accuracy: 0.5505\n"
     ]
    },
    {
     "data": {
      "text/plain": [
       "<tensorflow.python.keras.callbacks.History at 0x21c8c7d39a0>"
      ]
     },
     "execution_count": 44,
     "metadata": {},
     "output_type": "execute_result"
    }
   ],
   "source": [
    "model.fit(X_train,y_train,batch_size=batch_size,epochs=15,verbose=1,validation_data=(X_test,y_test))"
   ]
  },
  {
   "cell_type": "code",
   "execution_count": 45,
   "id": "a5dc426e",
   "metadata": {},
   "outputs": [
    {
     "name": "stdout",
     "output_type": "stream",
     "text": [
      "Test Score:  1.1166281700134277\n",
      "Test accuracy:  0.5504999756813049\n"
     ]
    }
   ],
   "source": [
    "score = model.evaluate(X_test, y_test, verbose = 0 )\n",
    "print(\"Test Score: \", score[0])\n",
    "print(\"Test accuracy: \", score[1])"
   ]
  },
  {
   "cell_type": "markdown",
   "id": "2cc58c0d",
   "metadata": {},
   "source": [
    "### Metrics"
   ]
  },
  {
   "cell_type": "code",
   "execution_count": 71,
   "id": "227b367d",
   "metadata": {},
   "outputs": [
    {
     "name": "stdout",
     "output_type": "stream",
     "text": [
      "[[1.6839147e-05 4.6226140e-03 9.9536055e-01]\n",
      " [1.7939912e-01 7.5545591e-01 6.5144971e-02]\n",
      " [2.4092590e-04 3.3506094e-03 9.9640840e-01]\n",
      " ...\n",
      " [3.8306591e-01 3.5276264e-01 2.6417145e-01]\n",
      " [1.0408364e-03 9.9844909e-01 5.0996488e-04]\n",
      " [1.3305731e-03 9.1183913e-01 8.6830243e-02]]\n"
     ]
    }
   ],
   "source": [
    "y_pred=model.predict(X_test,verbose=0)\n",
    "#print(y_pred)\n",
    "print(y_pred)\n"
   ]
  },
  {
   "cell_type": "code",
   "execution_count": 73,
   "id": "d8046fd0",
   "metadata": {},
   "outputs": [],
   "source": [
    "y_predval=[]\n",
    "for i in y_pred:\n",
    "    y_predval.append(np.argmax(i))"
   ]
  },
  {
   "cell_type": "code",
   "execution_count": 88,
   "id": "de17d4d4",
   "metadata": {},
   "outputs": [
    {
     "data": {
      "image/png": "[encoded data removed]",
      "text/plain": [
       "<Figure size 432x288 with 2 Axes>"
      ]
     },
     "metadata": {
      "needs_background": "light"
     },
     "output_type": "display_data"
    }
   ],
   "source": [
    "import seaborn as sns\n",
    "from sklearn.metrics import confusion_matrix,ConfusionMatrixDisplay\n",
    "\n",
    "cm = confusion_matrix(y_test, y_predval)\n",
    "f = sns.heatmap(cm, annot=True, fmt='d')\n",
    "f.set_title(\"Confusion matrix\")\n",
    "\n",
    "f.xaxis.set_ticklabels(['Week 1','Week 2','Week 3'])\n",
    "f.yaxis.set_ticklabels(['Week 1','Week 2','Week 3'])\n",
    "plt.ylabel(\"Predicted growth stage\",labelpad=15)\n",
    "plt.xlabel(\"Actual growth stage\",labelpad=15)\n",
    "plt.show()"
   ]
  },
  {
   "cell_type": "markdown",
   "id": "35b19e86",
   "metadata": {},
   "source": [
    "### Accuracy"
   ]
  },
  {
   "cell_type": "code",
   "execution_count": 93,
   "id": "e14518b5",
   "metadata": {},
   "outputs": [
    {
     "name": "stdout",
     "output_type": "stream",
     "text": [
      "Accuracy :\n",
      "0.8322\n",
      "              precision    recall  f1-score   support\n",
      "\n",
      "      Week 1       0.90      0.84      0.87      4587\n",
      "      Week 2       0.81      0.80      0.81      8450\n",
      "      Week 3       0.81      0.87      0.84      6963\n",
      "\n",
      "    accuracy                           0.83     20000\n",
      "   macro avg       0.84      0.84      0.84     20000\n",
      "weighted avg       0.83      0.83      0.83     20000\n",
      "\n"
     ]
    }
   ],
   "source": [
    "import numpy\n",
    "import sklearn.metrics\n",
    "import numpy\n",
    "import sklearn.metrics\n",
    "\n",
    "r = sklearn.metrics.confusion_matrix(y_test, y_predval)\n",
    "\n",
    "\n",
    "tp=r[0][0]+r[1][1]+r[2][2]\n",
    "\n",
    "acc = tp / numpy.sum(r)\n",
    "print(\"Accuracy :\")\n",
    "print(acc)\n",
    "target_names=[\"Week 1\",\"Week 2\",\"Week 3\"]\n",
    "precision = sklearn.metrics.classification_report(y_test,y_predval,target_names=target_names)\n",
    "print(precision)"
   ]
  },
  {
   "cell_type": "code",
   "execution_count": null,
   "id": "5f2f2406",
   "metadata": {},
   "outputs": [],
   "source": []
  }
 ],
 "metadata": {
  "kernelspec": {
   "display_name": "Python 3 (ipykernel)",
   "language": "python",
   "name": "python3"
  },
  "language_info": {
   "codemirror_mode": {
    "name": "ipython",
    "version": 3
   },
   "file_extension": ".py",
   "mimetype": "text/x-python",
   "name": "python",
   "nbconvert_exporter": "python",
   "pygments_lexer": "ipython3",
   "version": "3.9.12"
  }
 },
 "nbformat": 4,
 "nbformat_minor": 5
}
