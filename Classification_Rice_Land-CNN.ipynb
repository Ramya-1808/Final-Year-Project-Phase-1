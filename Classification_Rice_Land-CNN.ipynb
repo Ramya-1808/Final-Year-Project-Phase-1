{
 "cells": [
  {
   "cell_type": "code",
   "execution_count": 1,
   "id": "c005bddd",
   "metadata": {},
   "outputs": [],
   "source": [
    "import shutil\n",
    "import os\n",
    "import numpy as np\n",
    "import argparse"
   ]
  },
  {
   "cell_type": "code",
   "execution_count": 2,
   "id": "7137c0c9",
   "metadata": {},
   "outputs": [],
   "source": [
    "import random\n",
    "import keras"
   ]
  },
  {
   "cell_type": "code",
   "execution_count": 3,
   "id": "52ba02a4",
   "metadata": {},
   "outputs": [],
   "source": [
    "from tensorflow.keras import Sequential\n"
   ]
  },
  {
   "cell_type": "code",
   "execution_count": 4,
   "id": "71b22218",
   "metadata": {},
   "outputs": [
    {
     "name": "stderr",
     "output_type": "stream",
     "text": [
      "WARNING (theano.configdefaults): g++ not available, if using conda: `conda install m2w64-toolchain`\n",
      "C:\\Users\\DELL\\anaconda3\\lib\\site-packages\\theano\\configdefaults.py:560: UserWarning: DeprecationWarning: there is no c++ compiler.This is deprecated and with Theano 0.11 a c++ compiler will be mandatory\n",
      "  warnings.warn(\"DeprecationWarning: there is no c++ compiler.\"\n",
      "WARNING (theano.configdefaults): g++ not detected ! Theano will be unable to execute optimized C-implementations (for both CPU and GPU) and will default to Python implementations. Performance will be severely degraded. To remove this warning, set Theano flags cxx to an empty string.\n",
      "WARNING (theano.tensor.blas): Using NumPy C-API based implementation for BLAS functions.\n"
     ]
    }
   ],
   "source": [
    "import tensorflow as tf\n",
    "from keras.layers.core import Dense, Activation, Dropout, Flatten\n",
    "from keras.layers.convolutional import Convolution2D, MaxPooling2D\n",
    "from tensorflow.keras.optimizers import SGD\n",
    "from tensorflow.keras.optimizers import Adam\n",
    "from keras.utils import np_utils\n",
    "from sklearn.tree import DecisionTreeClassifier # Import Decision Tree Classifier\n",
    "from sklearn import metrics\n",
    "from sklearn.utils import shuffle\n",
    "from sklearn.model_selection import train_test_split\n",
    "import matplotlib.image as mpimg\n",
    "import matplotlib.pyplot as plt\n",
    "import numpy as np\n",
    "import os\n",
    "import cv2\n",
    "import random\n",
    "from numpy import *\n",
    "from PIL import Image\n",
    "import theano"
   ]
  },
  {
   "cell_type": "code",
   "execution_count": 5,
   "id": "facecf43",
   "metadata": {},
   "outputs": [],
   "source": [
    "path_test=\"C:\\\\Dataset\""
   ]
  },
  {
   "cell_type": "code",
   "execution_count": 6,
   "id": "5b0e7765",
   "metadata": {},
   "outputs": [],
   "source": [
    "Categories=[\"bareland\",\"riceshoot\"]"
   ]
  },
  {
   "cell_type": "code",
   "execution_count": 7,
   "id": "6c91f474",
   "metadata": {},
   "outputs": [],
   "source": [
    "IMG_SIZE=48"
   ]
  },
  {
   "cell_type": "code",
   "execution_count": 8,
   "id": "ef8fbed6",
   "metadata": {},
   "outputs": [],
   "source": [
    "training=[]\n",
    "def createTrainingData():\n",
    "    for cat in Categories:\n",
    "        path=os.path.join(path_test,cat)\n",
    "        class_num=Categories.index(cat)\n",
    "        for img in os.listdir(path):\n",
    "            img_array=cv2.imread(os.path.join(path,img))\n",
    "            #new_array=cv2.resize(img_array,(IMG_SIZE,IMG_SIZE))\n",
    "            training.append([img_array,class_num])\n",
    "\n"
   ]
  },
  {
   "cell_type": "code",
   "execution_count": 9,
   "id": "144a168d",
   "metadata": {},
   "outputs": [],
   "source": [
    "createTrainingData()\n"
   ]
  },
  {
   "cell_type": "code",
   "execution_count": 10,
   "id": "99204cca",
   "metadata": {},
   "outputs": [],
   "source": [
    "random.shuffle(training)\n",
    "training=training[:7000]"
   ]
  },
  {
   "cell_type": "code",
   "execution_count": 11,
   "id": "9fee828f",
   "metadata": {},
   "outputs": [],
   "source": [
    "X=[]\n",
    "Y=[]\n",
    "for features,label in training:\n",
    "    X.append(features)\n",
    "    Y.append(label)\n",
    "X=np.array(X).reshape(-1,48,48,3)"
   ]
  },
  {
   "cell_type": "code",
   "execution_count": 12,
   "id": "c56be54e",
   "metadata": {},
   "outputs": [
    {
     "name": "stdout",
     "output_type": "stream",
     "text": [
      "[[[[138 154 156]\n",
      "   [ 91 108 112]\n",
      "   [ 75  88  96]\n",
      "   ...\n",
      "   [ 60  89  92]\n",
      "   [ 61  97  96]\n",
      "   [ 67 106 110]]\n",
      "\n",
      "  [[108 129 135]\n",
      "   [ 89 109 112]\n",
      "   [ 98 116 119]\n",
      "   ...\n",
      "   [ 42  70  74]\n",
      "   [ 30  68  67]\n",
      "   [ 47  86  89]]\n",
      "\n",
      "  [[ 89 102 107]\n",
      "   [ 91 105 111]\n",
      "   [106 126 132]\n",
      "   ...\n",
      "   [ 56  82  85]\n",
      "   [ 46  83  83]\n",
      "   [ 70 103 108]]\n",
      "\n",
      "  ...\n",
      "\n",
      "  [[ 96 116 125]\n",
      "   [ 99 121 127]\n",
      "   [103 130 137]\n",
      "   ...\n",
      "   [ 99 120 126]\n",
      "   [ 82 100 108]\n",
      "   [ 80  96 105]]\n",
      "\n",
      "  [[ 92 113 118]\n",
      "   [ 93 114 124]\n",
      "   [ 95 123 127]\n",
      "   ...\n",
      "   [104 123 129]\n",
      "   [ 90 114 118]\n",
      "   [ 86 104 112]]\n",
      "\n",
      "  [[ 86 111 113]\n",
      "   [ 96 117 122]\n",
      "   [110 136 145]\n",
      "   ...\n",
      "   [109 126 135]\n",
      "   [103 124 133]\n",
      "   [ 92 111 117]]]\n",
      "\n",
      "\n",
      " [[[128 140 146]\n",
      "   [127 140 145]\n",
      "   [130 141 148]\n",
      "   ...\n",
      "   [130 145 148]\n",
      "   [130 145 147]\n",
      "   [131 144 146]]\n",
      "\n",
      "  [[129 142 145]\n",
      "   [124 139 144]\n",
      "   [124 139 144]\n",
      "   ...\n",
      "   [131 142 145]\n",
      "   [131 143 146]\n",
      "   [133 145 147]]\n",
      "\n",
      "  [[124 138 141]\n",
      "   [123 138 141]\n",
      "   [121 136 141]\n",
      "   ...\n",
      "   [130 140 142]\n",
      "   [130 141 143]\n",
      "   [130 143 144]]\n",
      "\n",
      "  ...\n",
      "\n",
      "  [[105 118 119]\n",
      "   [112 125 125]\n",
      "   [118 128 130]\n",
      "   ...\n",
      "   [112 124 125]\n",
      "   [108 121 123]\n",
      "   [102 113 116]]\n",
      "\n",
      "  [[ 98 109 111]\n",
      "   [ 97 107 110]\n",
      "   [109 117 120]\n",
      "   ...\n",
      "   [116 129 130]\n",
      "   [110 123 124]\n",
      "   [102 114 116]]\n",
      "\n",
      "  [[100 113 114]\n",
      "   [ 91 102 105]\n",
      "   [102 116 117]\n",
      "   ...\n",
      "   [116 127 131]\n",
      "   [116 126 129]\n",
      "   [108 120 122]]]\n",
      "\n",
      "\n",
      " [[[110 124 134]\n",
      "   [113 125 136]\n",
      "   [115 127 138]\n",
      "   ...\n",
      "   [127 145 153]\n",
      "   [124 142 150]\n",
      "   [123 140 149]]\n",
      "\n",
      "  [[109 123 133]\n",
      "   [111 124 134]\n",
      "   [112 126 135]\n",
      "   ...\n",
      "   [123 140 149]\n",
      "   [124 140 150]\n",
      "   [124 140 149]]\n",
      "\n",
      "  [[110 125 134]\n",
      "   [110 125 134]\n",
      "   [110 125 135]\n",
      "   ...\n",
      "   [117 132 142]\n",
      "   [118 134 145]\n",
      "   [118 135 144]]\n",
      "\n",
      "  ...\n",
      "\n",
      "  [[120 131 140]\n",
      "   [120 133 140]\n",
      "   [115 129 135]\n",
      "   ...\n",
      "   [108 120 124]\n",
      "   [107 119 124]\n",
      "   [106 119 126]]\n",
      "\n",
      "  [[115 127 136]\n",
      "   [113 128 135]\n",
      "   [114 128 133]\n",
      "   ...\n",
      "   [110 123 127]\n",
      "   [111 121 127]\n",
      "   [110 121 128]]\n",
      "\n",
      "  [[111 126 133]\n",
      "   [111 127 133]\n",
      "   [112 124 132]\n",
      "   ...\n",
      "   [115 126 131]\n",
      "   [114 126 132]\n",
      "   [111 124 130]]]\n",
      "\n",
      "\n",
      " ...\n",
      "\n",
      "\n",
      " [[[120 128 136]\n",
      "   [119 128 136]\n",
      "   [121 131 139]\n",
      "   ...\n",
      "   [115 125 127]\n",
      "   [115 127 128]\n",
      "   [117 131 131]]\n",
      "\n",
      "  [[119 128 135]\n",
      "   [119 128 136]\n",
      "   [121 131 138]\n",
      "   ...\n",
      "   [113 124 126]\n",
      "   [116 127 130]\n",
      "   [121 133 136]]\n",
      "\n",
      "  [[120 128 135]\n",
      "   [121 131 138]\n",
      "   [119 129 135]\n",
      "   ...\n",
      "   [114 126 128]\n",
      "   [115 128 132]\n",
      "   [118 130 135]]\n",
      "\n",
      "  ...\n",
      "\n",
      "  [[111 120 125]\n",
      "   [111 120 126]\n",
      "   [109 121 123]\n",
      "   ...\n",
      "   [108 119 125]\n",
      "   [108 120 126]\n",
      "   [110 121 126]]\n",
      "\n",
      "  [[114 124 127]\n",
      "   [121 130 132]\n",
      "   [116 127 129]\n",
      "   ...\n",
      "   [111 122 126]\n",
      "   [109 121 124]\n",
      "   [109 120 124]]\n",
      "\n",
      "  [[120 130 133]\n",
      "   [128 138 139]\n",
      "   [123 134 136]\n",
      "   ...\n",
      "   [114 124 127]\n",
      "   [111 122 124]\n",
      "   [109 119 122]]]\n",
      "\n",
      "\n",
      " [[[112 143 154]\n",
      "   [113 144 155]\n",
      "   [115 146 157]\n",
      "   ...\n",
      "   [115 147 151]\n",
      "   [114 145 151]\n",
      "   [114 145 152]]\n",
      "\n",
      "  [[113 145 156]\n",
      "   [115 146 159]\n",
      "   [116 146 158]\n",
      "   ...\n",
      "   [118 149 155]\n",
      "   [116 147 154]\n",
      "   [115 146 153]]\n",
      "\n",
      "  [[115 147 158]\n",
      "   [117 147 159]\n",
      "   [118 147 159]\n",
      "   ...\n",
      "   [119 150 156]\n",
      "   [117 149 156]\n",
      "   [116 148 155]]\n",
      "\n",
      "  ...\n",
      "\n",
      "  [[116 149 157]\n",
      "   [120 152 161]\n",
      "   [120 152 161]\n",
      "   ...\n",
      "   [116 145 157]\n",
      "   [115 145 157]\n",
      "   [112 143 154]]\n",
      "\n",
      "  [[115 148 155]\n",
      "   [119 152 159]\n",
      "   [117 152 159]\n",
      "   ...\n",
      "   [115 143 155]\n",
      "   [114 142 154]\n",
      "   [112 141 152]]\n",
      "\n",
      "  [[116 146 156]\n",
      "   [117 149 157]\n",
      "   [114 149 156]\n",
      "   ...\n",
      "   [113 140 153]\n",
      "   [112 139 150]\n",
      "   [110 137 150]]]\n",
      "\n",
      "\n",
      " [[[109 129 140]\n",
      "   [ 93 115 126]\n",
      "   [ 95 120 131]\n",
      "   ...\n",
      "   [ 91 118 128]\n",
      "   [ 98 124 133]\n",
      "   [124 150 157]]\n",
      "\n",
      "  [[142 163 172]\n",
      "   [124 150 157]\n",
      "   [109 136 150]\n",
      "   ...\n",
      "   [103 127 136]\n",
      "   [104 131 138]\n",
      "   [125 155 161]]\n",
      "\n",
      "  [[161 183 186]\n",
      "   [150 178 178]\n",
      "   [132 159 170]\n",
      "   ...\n",
      "   [109 134 142]\n",
      "   [107 136 141]\n",
      "   [124 151 159]]\n",
      "\n",
      "  ...\n",
      "\n",
      "  [[105 130 131]\n",
      "   [119 144 144]\n",
      "   [ 96 120 119]\n",
      "   ...\n",
      "   [132 178 170]\n",
      "   [144 193 182]\n",
      "   [105 157 149]]\n",
      "\n",
      "  [[124 151 155]\n",
      "   [112 136 141]\n",
      "   [ 66  89  91]\n",
      "   ...\n",
      "   [120 170 161]\n",
      "   [129 178 171]\n",
      "   [ 78 128 121]]\n",
      "\n",
      "  [[133 160 164]\n",
      "   [ 97 120 128]\n",
      "   [ 52  71  81]\n",
      "   ...\n",
      "   [ 93 143 132]\n",
      "   [ 99 144 138]\n",
      "   [ 53 101  92]]]]\n",
      "(7000, 48, 48, 3)\n"
     ]
    }
   ],
   "source": [
    "print(X)\n",
    "print(shape(X))"
   ]
  },
  {
   "cell_type": "code",
   "execution_count": 13,
   "id": "37d44c7f",
   "metadata": {},
   "outputs": [],
   "source": [
    "from keras.utils import np_utils\n",
    "y=np_utils.to_categorical(Y,2)"
   ]
  },
  {
   "cell_type": "code",
   "execution_count": 14,
   "id": "e655fe70",
   "metadata": {},
   "outputs": [],
   "source": [
    "shape(Y)\n",
    "Y=np.array(Y)"
   ]
  },
  {
   "cell_type": "code",
   "execution_count": 15,
   "id": "9e58b3fb",
   "metadata": {},
   "outputs": [],
   "source": [
    "X_train,X_test,y_train,y_test=train_test_split(X,Y,test_size=0.2,random_state=4)"
   ]
  },
  {
   "cell_type": "code",
   "execution_count": 16,
   "id": "cc96278e",
   "metadata": {},
   "outputs": [],
   "source": [
    "batch_size = 128\n",
    "nb_classes =2\n",
    "nb_epochs = 20\n",
    "img_rows, img_columns = 48, 48\n",
    "img_channel = 3\n",
    "nb_filters = 32\n",
    "nb_pool = 2\n",
    "nb_conv = 3"
   ]
  },
  {
   "cell_type": "code",
   "execution_count": 17,
   "id": "aa8e69f5",
   "metadata": {},
   "outputs": [],
   "source": [
    "model = tf.keras.Sequential([\n",
    "    tf.keras.layers.Conv2D(6, (3,3), padding='same', activation=tf.nn.relu,\n",
    "                           input_shape=(48, 48, 3)),\n",
    "    tf.keras.layers.Conv2D(6,(3,3),padding='same',activation=tf.nn.relu),\n",
    "    tf.keras.layers.MaxPooling2D((3, 3), strides=3),\n",
    "    tf.keras.layers.Conv2D(16, (3,3), padding='same', activation=tf.nn.relu),\n",
    "    tf.keras.layers.Conv2D(16, (3,3), padding='same', activation=tf.nn.relu),\n",
    "    tf.keras.layers.MaxPooling2D((4, 4), strides=4),\n",
    "    tf.keras.layers.Flatten(),\n",
    "    tf.keras.layers.Dense(64, activation=tf.nn.relu),\n",
    "    tf.keras.layers.Dropout(0.1),\n",
    "    tf.keras.layers.Dense(2,  activation=tf.nn.softmax)\n",
    "])"
   ]
  },
  {
   "cell_type": "code",
   "execution_count": 18,
   "id": "0fd1fd47",
   "metadata": {},
   "outputs": [
    {
     "name": "stdout",
     "output_type": "stream",
     "text": [
      "Model: \"sequential\"\n",
      "_________________________________________________________________\n",
      " Layer (type)                Output Shape              Param #   \n",
      "=================================================================\n",
      " conv2d (Conv2D)             (None, 48, 48, 6)         168       \n",
      "                                                                 \n",
      " conv2d_1 (Conv2D)           (None, 48, 48, 6)         330       \n",
      "                                                                 \n",
      " max_pooling2d (MaxPooling2D  (None, 16, 16, 6)        0         \n",
      " )                                                               \n",
      "                                                                 \n",
      " conv2d_2 (Conv2D)           (None, 16, 16, 16)        880       \n",
      "                                                                 \n",
      " conv2d_3 (Conv2D)           (None, 16, 16, 16)        2320      \n",
      "                                                                 \n",
      " max_pooling2d_1 (MaxPooling  (None, 4, 4, 16)         0         \n",
      " 2D)                                                             \n",
      "                                                                 \n",
      " flatten (Flatten)           (None, 256)               0         \n",
      "                                                                 \n",
      " dense (Dense)               (None, 64)                16448     \n",
      "                                                                 \n",
      " dropout (Dropout)           (None, 64)                0         \n",
      "                                                                 \n",
      " dense_1 (Dense)             (None, 2)                 130       \n",
      "                                                                 \n",
      "=================================================================\n",
      "Total params: 20,276\n",
      "Trainable params: 20,276\n",
      "Non-trainable params: 0\n",
      "_________________________________________________________________\n"
     ]
    }
   ],
   "source": [
    "model.summary()"
   ]
  },
  {
   "cell_type": "code",
   "execution_count": 19,
   "id": "0f64a6b6",
   "metadata": {},
   "outputs": [],
   "source": [
    "model.compile(optimizer=\"adam\",loss=\"sparse_categorical_crossentropy\",metrics=[\"accuracy\"])"
   ]
  },
  {
   "cell_type": "code",
   "execution_count": 20,
   "id": "264a5c95",
   "metadata": {},
   "outputs": [
    {
     "name": "stdout",
     "output_type": "stream",
     "text": [
      "Epoch 1/10\n",
      "44/44 [==============================] - 7s 147ms/step - loss: 0.4052 - accuracy: 0.8952 - val_loss: 0.0360 - val_accuracy: 0.9893\n",
      "Epoch 2/10\n",
      "44/44 [==============================] - 6s 132ms/step - loss: 0.0341 - accuracy: 0.9902 - val_loss: 0.0127 - val_accuracy: 0.9957\n",
      "Epoch 3/10\n",
      "44/44 [==============================] - 6s 132ms/step - loss: 0.0159 - accuracy: 0.9952 - val_loss: 0.0102 - val_accuracy: 0.9950\n",
      "Epoch 4/10\n",
      "44/44 [==============================] - 6s 132ms/step - loss: 0.0101 - accuracy: 0.9970 - val_loss: 0.0106 - val_accuracy: 0.9971\n",
      "Epoch 5/10\n",
      "44/44 [==============================] - 6s 140ms/step - loss: 0.0190 - accuracy: 0.9930 - val_loss: 0.0059 - val_accuracy: 0.9971\n",
      "Epoch 6/10\n",
      "44/44 [==============================] - 6s 141ms/step - loss: 0.0086 - accuracy: 0.9966 - val_loss: 0.0133 - val_accuracy: 0.9950\n",
      "Epoch 7/10\n",
      "44/44 [==============================] - 6s 143ms/step - loss: 0.0050 - accuracy: 0.9979 - val_loss: 0.0034 - val_accuracy: 0.9993\n",
      "Epoch 8/10\n",
      "44/44 [==============================] - 6s 141ms/step - loss: 0.0052 - accuracy: 0.9984 - val_loss: 0.0026 - val_accuracy: 0.9993\n",
      "Epoch 9/10\n",
      "44/44 [==============================] - 6s 148ms/step - loss: 0.0032 - accuracy: 0.9989 - val_loss: 0.0020 - val_accuracy: 0.9986\n",
      "Epoch 10/10\n",
      "44/44 [==============================] - 6s 145ms/step - loss: 0.0033 - accuracy: 0.9987 - val_loss: 0.0030 - val_accuracy: 0.9993\n"
     ]
    }
   ],
   "source": [
    "history=model.fit(X_train,y_train,batch_size=batch_size,epochs=10,verbose=1,validation_data=(X_test,y_test))"
   ]
  },
  {
   "cell_type": "markdown",
   "id": "a568dfd2",
   "metadata": {},
   "source": [
    "### METRICS"
   ]
  },
  {
   "cell_type": "code",
   "execution_count": 21,
   "id": "35a185b1",
   "metadata": {},
   "outputs": [
    {
     "name": "stdout",
     "output_type": "stream",
     "text": [
      "Test Score:  0.0030108250211924314\n",
      "Test accuracy:  0.9992856979370117\n"
     ]
    }
   ],
   "source": [
    "score = model.evaluate(X_test, y_test, verbose = 0 )\n",
    "print(\"Test Score: \", score[0])\n",
    "print(\"Test accuracy: \", score[1])"
   ]
  },
  {
   "cell_type": "code",
   "execution_count": 22,
   "id": "6940a889",
   "metadata": {},
   "outputs": [
    {
     "data": {
      "image/png": "[encoded data removed]",
      "text/plain": [
       "<Figure size 432x288 with 1 Axes>"
      ]
     },
     "metadata": {
      "needs_background": "light"
     },
     "output_type": "display_data"
    }
   ],
   "source": [
    "loss_train = history.history['loss']\n",
    "loss_val = history.history['val_loss']\n",
    "epochs = range(1,11)\n",
    "plt.plot(epochs, loss_train, 'g', label='Training loss')\n",
    "plt.plot(epochs, loss_val, 'b', label='validation loss')\n",
    "plt.title('Training and Validation loss')\n",
    "plt.xlabel('Epochs')\n",
    "plt.ylabel('Loss')\n",
    "plt.legend()\n",
    "plt.show()"
   ]
  },
  {
   "cell_type": "code",
   "execution_count": 23,
   "id": "a09b207d",
   "metadata": {},
   "outputs": [
    {
     "data": {
      "image/png": "[encoded data removed]",
      "text/plain": [
       "<Figure size 432x288 with 1 Axes>"
      ]
     },
     "metadata": {
      "needs_background": "light"
     },
     "output_type": "display_data"
    }
   ],
   "source": [
    "accuracy = history.history['accuracy']\n",
    "val_accuracy = history.history['val_accuracy']\n",
    "epochs = range(1,11)\n",
    "plt.plot(epochs,accuracy, 'g', label='Training accuracy')\n",
    "plt.plot(epochs,val_accuracy, 'b', label='validation accuracy')\n",
    "plt.title('Training and Validation accuracy')\n",
    "plt.xlabel('Epochs')\n",
    "plt.ylabel('Accuracy')\n",
    "plt.legend()\n",
    "plt.show()"
   ]
  },
  {
   "cell_type": "code",
   "execution_count": 24,
   "id": "13a9a489",
   "metadata": {},
   "outputs": [],
   "source": [
    "from sklearn import metrics\n",
    "import pandas as pd\n",
    "import numpy as np\n",
    "from matplotlib import pyplot as plt\n",
    "import seaborn as sns\n",
    "from sklearn.metrics import plot_confusion_matrix"
   ]
  },
  {
   "cell_type": "code",
   "execution_count": 25,
   "id": "bb8b86c1",
   "metadata": {},
   "outputs": [
    {
     "name": "stdout",
     "output_type": "stream",
     "text": [
      "[[1. 0.]\n",
      " [1. 0.]\n",
      " [1. 0.]\n",
      " ...\n",
      " [0. 1.]\n",
      " [1. 0.]\n",
      " [1. 0.]]\n"
     ]
    }
   ],
   "source": [
    "y_pred=model.predict(X_test,verbose=0)\n",
    "y_predd=np.ndarray.round(y_pred)\n",
    "print(y_predd)"
   ]
  },
  {
   "cell_type": "code",
   "execution_count": 26,
   "id": "3978a715",
   "metadata": {},
   "outputs": [],
   "source": [
    "y_predval=[]\n",
    "for i in y_predd:\n",
    "    if(i[0]>i[1]):\n",
    "        y_predval.append(0)\n",
    "    else:\n",
    "        y_predval.append(1)"
   ]
  },
  {
   "cell_type": "code",
   "execution_count": 27,
   "id": "fe241f7c",
   "metadata": {},
   "outputs": [
    {
     "data": {
      "image/png": "[encoded data removed]",
      "text/plain": [
       "<Figure size 432x288 with 2 Axes>"
      ]
     },
     "metadata": {
      "needs_background": "light"
     },
     "output_type": "display_data"
    }
   ],
   "source": [
    "import seaborn as sns\n",
    "from sklearn.metrics import confusion_matrix\n",
    "\n",
    "cm = confusion_matrix(y_test, y_predval)\n",
    "f = sns.heatmap(cm, annot=True, fmt='d')\n",
    "f.set_title(\"Confusion Matrix\")\n",
    "f.xaxis.set_ticklabels(['bareland','Riceshoot'])\n",
    "f.yaxis.set_ticklabels(['bareland','Riceshoot'])\n",
    "plt.xlabel(\"Actual Riceshoot and bare land\",labelpad=15)\n",
    "plt.ylabel(\"Predicted Ricesoot and bare land\",labelpad=15)\n",
    "plt.show()"
   ]
  },
  {
   "cell_type": "code",
   "execution_count": 28,
   "id": "34ad3dab",
   "metadata": {},
   "outputs": [
    {
     "name": "stdout",
     "output_type": "stream",
     "text": [
      "1/1 [==============================] - 0s 122ms/step\n",
      "[[4.976456e-07 9.999995e-01]]\n",
      "Predicted Stage :  riceshoot\n"
     ]
    }
   ],
   "source": [
    "from tensorflow.keras.preprocessing import image\n",
    "test_image=image.load_img(\"test_land.tif\",target_size=(48,48))\n",
    "test_image=image.img_to_array(test_image)\n",
    "test_image=np.expand_dims(test_image,axis=0)\n",
    "arr=model.predict(test_image)\n",
    "print(arr)\n",
    "arr=np.ndarray.tolist(arr)\n",
    "t=arr[0].index(max(arr[0]))\n",
    "print(\"Predicted Stage : \",Categories[t])"
   ]
  },
  {
   "cell_type": "code",
   "execution_count": 29,
   "id": "946912a1",
   "metadata": {},
   "outputs": [
    {
     "name": "stdout",
     "output_type": "stream",
     "text": [
      "1/1 [==============================] - 0s 28ms/step\n",
      "[[1.4849415e-13 1.0000000e+00]]\n",
      "Predicted Stage :  riceshoot\n"
     ]
    }
   ],
   "source": [
    "from tensorflow.keras.preprocessing import image\n",
    "test_image=image.load_img(\"test_img.tif\",target_size=(48,48))\n",
    "test_image=image.img_to_array(test_image)\n",
    "test_image=np.expand_dims(test_image,axis=0)\n",
    "arr=model.predict(test_image)\n",
    "print(arr)\n",
    "arr=np.ndarray.tolist(arr)\n",
    "t=arr[0].index(max(arr[0]))\n",
    "print(\"Predicted Stage : \",Categories[t])"
   ]
  },
  {
   "cell_type": "code",
   "execution_count": 30,
   "id": "93f8b442",
   "metadata": {},
   "outputs": [
    {
     "name": "stdout",
     "output_type": "stream",
     "text": [
      "1/1 [==============================] - 0s 26ms/step\n",
      "[[0.00621012 0.99378985]]\n",
      "Predicted Stage :  riceshoot\n"
     ]
    }
   ],
   "source": [
    "from tensorflow.keras.preprocessing import image\n",
    "test_image=image.load_img(\"land.tif\",target_size=(48,48))\n",
    "test_image=image.img_to_array(test_image)\n",
    "test_image=np.expand_dims(test_image,axis=0)\n",
    "arr=model.predict(test_image)\n",
    "print(arr)\n",
    "arr=np.ndarray.tolist(arr)\n",
    "t=arr[0].index(max(arr[0]))\n",
    "print(\"Predicted Stage : \",Categories[t])"
   ]
  },
  {
   "cell_type": "code",
   "execution_count": 31,
   "id": "5c15eec6",
   "metadata": {},
   "outputs": [
    {
     "name": "stdout",
     "output_type": "stream",
     "text": [
      "Accuracy :\n",
      "0.999\n",
      "Precision :\n",
      "1.00000\n",
      "Recall :\n",
      "0.99862\n",
      "F1 Score :\n",
      "0.999\n"
     ]
    }
   ],
   "source": [
    "import numpy\n",
    "import sklearn.metrics\n",
    "import numpy\n",
    "import sklearn.metrics\n",
    "\n",
    "r = sklearn.metrics.confusion_matrix(y_test, y_predval)\n",
    "acc = (r[0][0] + r[1][1]) / numpy.sum(r)\n",
    "print(\"Accuracy :\")\n",
    "print('%.3f' %acc)\n",
    "precision = sklearn.metrics.precision_score(y_test, y_predval)\n",
    "print(\"Precision :\")\n",
    "print('%.5f' %precision)\n",
    "print(\"Recall :\")\n",
    "recall = sklearn.metrics.recall_score(y_test, y_predval)\n",
    "print('%.5f' %recall)\n",
    "print(\"F1 Score :\")\n",
    "f1 = sklearn.metrics.f1_score(y_test, y_predval,average='micro')\n",
    "print('%.3f' %f1)"
   ]
  },
  {
   "cell_type": "code",
   "execution_count": 32,
   "id": "abd34faf",
   "metadata": {},
   "outputs": [
    {
     "name": "stdout",
     "output_type": "stream",
     "text": [
      "              precision    recall  f1-score   support\n",
      "\n",
      "    Bareland       1.00      1.00      1.00       677\n",
      "   Riceshoot       1.00      1.00      1.00       723\n",
      "\n",
      "    accuracy                           1.00      1400\n",
      "   macro avg       1.00      1.00      1.00      1400\n",
      "weighted avg       1.00      1.00      1.00      1400\n",
      "\n"
     ]
    }
   ],
   "source": [
    "from sklearn.metrics import classification_report\n",
    "target_names = ['Bareland', 'Riceshoot']\n",
    "print(classification_report(y_test, y_predval, target_names=target_names))"
   ]
  },
  {
   "cell_type": "code",
   "execution_count": 33,
   "id": "e47a494d",
   "metadata": {},
   "outputs": [],
   "source": [
    "import pickle\n"
   ]
  },
  {
   "cell_type": "code",
   "execution_count": 38,
   "id": "56d52394",
   "metadata": {},
   "outputs": [],
   "source": [
    "filename='cnnmodel.h5'\n",
    "model.save(filename)"
   ]
  },
  {
   "cell_type": "code",
   "execution_count": null,
   "id": "ce2d7e6d",
   "metadata": {},
   "outputs": [],
   "source": []
  }
 ],
 "metadata": {
  "kernelspec": {
   "display_name": "Python 3 (ipykernel)",
   "language": "python",
   "name": "python3"
  },
  "language_info": {
   "codemirror_mode": {
    "name": "ipython",
    "version": 3
   },
   "file_extension": ".py",
   "mimetype": "text/x-python",
   "name": "python",
   "nbconvert_exporter": "python",
   "pygments_lexer": "ipython3",
   "version": "3.9.12"
  }
 },
 "nbformat": 4,
 "nbformat_minor": 5
}
